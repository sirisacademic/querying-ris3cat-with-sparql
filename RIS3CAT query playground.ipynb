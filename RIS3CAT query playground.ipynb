{
 "cells": [
  {
   "cell_type": "markdown",
   "metadata": {},
   "source": [
    "# Querying RIS3CAT\n",
    "    "
   ]
  },
  {
   "cell_type": "markdown",
   "metadata": {},
   "source": [
    "### Querying CORDIS and SIFECAT organizations\n",
    "    Example of a query connecting organizations from SIFECAT and CORDIS. The connections is made through the :organization class"
   ]
  },
  {
   "cell_type": "code",
   "execution_count": 5,
   "metadata": {
    "collapsed": false
   },
   "outputs": [
    {
     "data": {
      "text/html": [
       "<div class=\"krn-spql\"><div class=\"magic\">Endpoint set to: http://ec2-52-51-177-228.eu-west-1.compute.amazonaws.com/unics_2.0/sparql/query</div><div class=\"magic\">Display: table</div><div class=\"magic\">Result maximum size: unlimited</div></div>"
      ],
      "text/plain": [
       "Endpoint set to: http://ec2-52-51-177-228.eu-west-1.compute.amazonaws.com/unics_2.0/sparql/query\n",
       "Display: table\n",
       "Result maximum size: unlimited\n"
      ]
     },
     "metadata": {},
     "output_type": "display_data"
    },
    {
     "data": {
      "text/html": [
       "<div class=\"krn-spql\"><table><tr class=hdr><th>titolProj</th>\n",
       "<th>codiOperacio</th>\n",
       "<th>orgId</th>\n",
       "<th>orgName</th>\n",
       "<th>costTotal</th></tr><tr class=odd><td class=val>Disseny i especificacio d'un protocol per a aplicacions V2CLOUD</td>\n",
       "<td class=val>IU70-005479</td>\n",
       "<td class=val>221889</td>\n",
       "<td class=val>Advanced Automotive Antennas S.L.</td>\n",
       "<td class=val>197847.260000000009</td></tr><tr class=even><td class=val>Desenvolupament d'una nova plataforma analitica de glicosaminoglicans terapeutics</td>\n",
       "<td class=val>IU70-005494</td>\n",
       "<td class=val>275484</td>\n",
       "<td class=val>Kymos Pharma Services S.L.</td>\n",
       "<td class=val>309898.969999999972</td></tr><tr class=odd><td class=val>Sistema d'evaporacio solar per al tractament de dejeccions ramaderes (SOLARPUR)</td>\n",
       "<td class=val>IU70-005501</td>\n",
       "<td class=val>275565</td>\n",
       "<td class=val>Sud Energies Renovables S.L.</td>\n",
       "<td class=val>304342.469999999972</td></tr><tr class=even><td class=val>Recerca d'un nou sistema textil de regulacio luminica i termica per a una gestio energetica eficient</td>\n",
       "<td class=val>IU70-005484</td>\n",
       "<td class=val>275502</td>\n",
       "<td class=val>Vertisol Internacional S.L.</td>\n",
       "<td class=val>233742.940000000002</td></tr><tr class=odd><td class=val>Recerca d'un nou sistema de fabricacio de moduls universals d'il·luminacio led per a lluminaries</td>\n",
       "<td class=val>IU70-005477</td>\n",
       "<td class=val>275557</td>\n",
       "<td class=val>Santa &amp; Cole Neoseries S.L.</td>\n",
       "<td class=val>195882.760000000009</td></tr><tr class=even><td class=val>Plataforma de control remot d'estocs per a sitges de pinso en explotacions de ramaderia intensiva</td>\n",
       "<td class=val>IU70-005500</td>\n",
       "<td class=val>275527</td>\n",
       "<td class=val>Ubikwa Systems SLU</td>\n",
       "<td class=val>218533.649999999994</td></tr><tr class=odd><td class=val>Estudi de viabilitat dels processos biologics per al tractament de residus perillosos liquids</td>\n",
       "<td class=val>IU70-005481</td>\n",
       "<td class=val>275499</td>\n",
       "<td class=val>Distiller S.A.</td>\n",
       "<td class=val>317695.640000000014</td></tr><tr class=even><td class=val>Sistemes de deformacio parametrica de malles i analitica big-data</td>\n",
       "<td class=val>IU70-005516</td>\n",
       "<td class=val>245146</td>\n",
       "<td class=val>Indo Optical S.L.</td>\n",
       "<td class=val>299459.080000000016</td></tr><tr class=odd><td class=val>Metodes biotecnologics per a l'obtencio de compostos naturals per industries de fragancies i aromes</td>\n",
       "<td class=val>IU70-005488</td>\n",
       "<td class=val>275519</td>\n",
       "<td class=val>Ernesto Ventos S.A.</td>\n",
       "<td class=val>517555.049999999988</td></tr><tr class=even><td class=val>Desenvolupament d'un prototip per a l'elucidacio automatica d'estructures quimiques. ChemSite</td>\n",
       "<td class=val>IU70-005466</td>\n",
       "<td class=val>256281</td>\n",
       "<td class=val>Lead Molecular Design S.L.</td>\n",
       "<td class=val>200430.029999999999</td></tr></table><div class=\"tinfo\">Total: 10, Shown: 10</div></div>"
      ]
     },
     "metadata": {},
     "output_type": "display_data"
    }
   ],
   "source": [
    "%endpoint http://ec2-52-51-177-228.eu-west-1.compute.amazonaws.com/unics_2.0/sparql/query\n",
    "%display table\n",
    "%show all\n",
    "\n",
    "PREFIX : <http://www.semanticweb.org/ontologies/2016/4/untitled-ontology-69#>\n",
    "PREFIX ris3cat: <http://www.semanticweb.org/ontologies/2016/4/untitled-ontology-69/ris3cat#>\n",
    "SELECT \n",
    "    ?titolProj ?codiOperacio ?orgId ?orgName ?costTotal\n",
    "WHERE {\n",
    "    ?p a ris3cat:Projecte .\n",
    "    ?p :title ?titolProj .\n",
    "    ?p ris3cat:operacio ?op .\n",
    "    ?op :identifier ?codiOperacio .\n",
    "    ?op ris3cat:costTotal ?costTotal .\n",
    "    ?op ris3cat:beneficiari ?benef .\n",
    "    ?benef :organization ?org .\n",
    "    ?org :unicsId ?orgId .\n",
    "    ?org :extendedName ?orgName .\n",
    "}\n",
    "LIMIT 10"
   ]
  },
  {
   "cell_type": "markdown",
   "metadata": {
    "collapsed": true
   },
   "source": [
    "### Starting and ending year for all projects\n",
    "    Querying initial and ending date for projects, and retrieve also some ris3cat properties"
   ]
  },
  {
   "cell_type": "code",
   "execution_count": 1,
   "metadata": {
    "collapsed": false
   },
   "outputs": [
    {
     "data": {
      "text/html": [
       "<div class=\"krn-spql\"><div class=\"krn-error\"><span class=\"title\">Error:</span> no endpoint defined</div></div>"
      ],
      "text/plain": [
       "Error: no endpoint defined"
      ]
     },
     "metadata": {},
     "output_type": "display_data"
    }
   ],
   "source": [
    "%endpoint http://ec2-52-51-177-228.eu-west-1.compute.amazonaws.com/unics_2.0/sparql/query\n",
    "%display table\n",
    "%show all\n",
    "\n",
    "PREFIX : <http://www.semanticweb.org/ontologies/2016/4/untitled-ontology-69#>\n",
    "PREFIX ris3cat: <http://www.semanticweb.org/ontologies/2016/4/untitled-ontology-69/ris3cat#>\n",
    "SELECT \n",
    "\t?tecnologiaEmergentIdentifier\n",
    "\t?tecnologiaFacilitadoraIdentifier\n",
    "    ?ambitSectorialIdentifier\n",
    "\t(substr(str(?startingDate), 1,4) as ?startingYear)\n",
    "\t(substr(str(?endingDate), 1,4) as ?endingYear)\n",
    "WHERE {\n",
    "    ?p a ris3cat:Projecte .\n",
    "  \t?p :startingDate ?startingDate .\n",
    "  \t?p :endingDate ?endingDate .  \n",
    "\n",
    "  optional {\n",
    "    ?p ris3cat:tecnologiaFacilitadora ?tecnologiaFacilitadora .\n",
    "    ?tecnologiaFacilitadora :identifier ?tecnologiaFacilitadoraIdentifier\n",
    "    \n",
    "  }\n",
    "  optional {\n",
    "    ?p ris3cat:tecnologiaEmergent ?tecnologiaEmergent .\n",
    "    ?tecnologiaEmergent :identifier ?tecnologiaEmergentIdentifier\n",
    "  }\n",
    "  optional {\n",
    "    ?p ris3cat:ambitSectorial ?ambitSectorial .\n",
    "    ?ambitSectorial :identifier ?ambitSectorialIdentifier\n",
    "  }\n",
    "}\n",
    "LIMIT 10"
   ]
  },
  {
   "cell_type": "markdown",
   "metadata": {},
   "source": [
    "### Example of a query using the 'supra-ontology'\n",
    "This is, using concepts more top-level in order to describe entities and its properties independently whether they are institutions from CORDIS, SIFECAT, etc... CORDIS and SIFECAT, per example have differentm ways to describe the funding, the investment, etc.."
   ]
  },
  {
   "cell_type": "code",
   "execution_count": 3,
   "metadata": {
    "collapsed": false
   },
   "outputs": [
    {
     "data": {
      "text/html": [
       "<div class=\"krn-spql\"><div class=\"magic\">Endpoint set to: http://ec2-52-51-177-228.eu-west-1.compute.amazonaws.com/unics_2.0/sparql/query</div><div class=\"magic\">Display: table</div><div class=\"magic\">Result maximum size: unlimited</div></div>"
      ],
      "text/plain": [
       "Endpoint set to: http://ec2-52-51-177-228.eu-west-1.compute.amazonaws.com/unics_2.0/sparql/query\n",
       "Display: table\n",
       "Result maximum size: unlimited\n"
      ]
     },
     "metadata": {},
     "output_type": "display_data"
    },
    {
     "data": {
      "text/html": [
       "<div class=\"krn-spql\"><table><tr class=hdr><th>pId</th>\n",
       "<th>frameworkName</th>\n",
       "<th>instrumentName</th>\n",
       "<th>instrumentShortName</th>\n",
       "<th>totalInvestment</th>\n",
       "<th>totalGrant</th>\n",
       "<th>orgId</th>\n",
       "<th>activityTypeCode</th>\n",
       "<th>activityTypeName</th>\n",
       "<th>investment</th>\n",
       "<th>grant</th>\n",
       "<th>categoryTypeName</th>\n",
       "<th>categoryName</th></tr><tr class=odd><td class=val>CORDIS-755039</td>\n",
       "<td class=val>H2020</td>\n",
       "<td class=val>Euratom</td>\n",
       "<td class=val>Euratom</td>\n",
       "<td class=val>6524695.87999999989</td>\n",
       "<td class=val>4000000</td>\n",
       "<td class=val>220791</td>\n",
       "<td class=val>REC</td>\n",
       "<td class=val>Research Organisations</td>\n",
       "<td class=val></td>\n",
       "<td class=val>400000</td>\n",
       "<td class=val>RIS3CAT Tecnologia Emergent</td>\n",
       "<td class=val>Energia de fusió</td></tr><tr class=even><td class=val>CORDIS-755039</td>\n",
       "<td class=val>H2020</td>\n",
       "<td class=val>Euratom</td>\n",
       "<td class=val>Euratom</td>\n",
       "<td class=val>6524695.87999999989</td>\n",
       "<td class=val>4000000</td>\n",
       "<td class=val>220420</td>\n",
       "<td class=val>REC</td>\n",
       "<td class=val>Research Organisations</td>\n",
       "<td class=val></td>\n",
       "<td class=val>200000</td>\n",
       "<td class=val>RIS3CAT Tecnologia Emergent</td>\n",
       "<td class=val>Energia de fusió</td></tr><tr class=odd><td class=val>CORDIS-755039</td>\n",
       "<td class=val>H2020</td>\n",
       "<td class=val>Euratom</td>\n",
       "<td class=val>Euratom</td>\n",
       "<td class=val>6524695.87999999989</td>\n",
       "<td class=val>4000000</td>\n",
       "<td class=val>222858</td>\n",
       "<td class=val>HES</td>\n",
       "<td class=val>Higher or Secondary Education Establishments</td>\n",
       "<td class=val></td>\n",
       "<td class=val>140000</td>\n",
       "<td class=val>RIS3CAT Tecnologia Emergent</td>\n",
       "<td class=val>Energia de fusió</td></tr><tr class=even><td class=val>CORDIS-755039</td>\n",
       "<td class=val>H2020</td>\n",
       "<td class=val>Euratom</td>\n",
       "<td class=val>Euratom</td>\n",
       "<td class=val>6524695.87999999989</td>\n",
       "<td class=val>4000000</td>\n",
       "<td class=val>273813</td>\n",
       "<td class=val>REC</td>\n",
       "<td class=val>Research Organisations</td>\n",
       "<td class=val></td>\n",
       "<td class=val>120000</td>\n",
       "<td class=val>RIS3CAT Tecnologia Emergent</td>\n",
       "<td class=val>Energia de fusió</td></tr><tr class=odd><td class=val>CORDIS-755039</td>\n",
       "<td class=val>H2020</td>\n",
       "<td class=val>Euratom</td>\n",
       "<td class=val>Euratom</td>\n",
       "<td class=val>6524695.87999999989</td>\n",
       "<td class=val>4000000</td>\n",
       "<td class=val>3328</td>\n",
       "<td class=val>PRC</td>\n",
       "<td class=val>Private for-profit entities (excluding Higher or Secondary Education Establishments)</td>\n",
       "<td class=val></td>\n",
       "<td class=val>200000</td>\n",
       "<td class=val>RIS3CAT Tecnologia Emergent</td>\n",
       "<td class=val>Energia de fusió</td></tr><tr class=even><td class=val>CORDIS-755039</td>\n",
       "<td class=val>H2020</td>\n",
       "<td class=val>Euratom</td>\n",
       "<td class=val>Euratom</td>\n",
       "<td class=val>6524695.87999999989</td>\n",
       "<td class=val>4000000</td>\n",
       "<td class=val>195865</td>\n",
       "<td class=val>HES</td>\n",
       "<td class=val>Higher or Secondary Education Establishments</td>\n",
       "<td class=val></td>\n",
       "<td class=val>150000</td>\n",
       "<td class=val>RIS3CAT Tecnologia Emergent</td>\n",
       "<td class=val>Energia de fusió</td></tr><tr class=odd><td class=val>CORDIS-755039</td>\n",
       "<td class=val>H2020</td>\n",
       "<td class=val>Euratom</td>\n",
       "<td class=val>Euratom</td>\n",
       "<td class=val>6524695.87999999989</td>\n",
       "<td class=val>4000000</td>\n",
       "<td class=val>2450</td>\n",
       "<td class=val>HES</td>\n",
       "<td class=val>Higher or Secondary Education Establishments</td>\n",
       "<td class=val></td>\n",
       "<td class=val>70000</td>\n",
       "<td class=val>RIS3CAT Tecnologia Emergent</td>\n",
       "<td class=val>Energia de fusió</td></tr><tr class=even><td class=val>CORDIS-755039</td>\n",
       "<td class=val>H2020</td>\n",
       "<td class=val>Euratom</td>\n",
       "<td class=val>Euratom</td>\n",
       "<td class=val>6524695.87999999989</td>\n",
       "<td class=val>4000000</td>\n",
       "<td class=val>228259</td>\n",
       "<td class=val>REC</td>\n",
       "<td class=val>Research Organisations</td>\n",
       "<td class=val></td>\n",
       "<td class=val>260000</td>\n",
       "<td class=val>RIS3CAT Tecnologia Emergent</td>\n",
       "<td class=val>Energia de fusió</td></tr><tr class=odd><td class=val>CORDIS-755039</td>\n",
       "<td class=val>H2020</td>\n",
       "<td class=val>Euratom</td>\n",
       "<td class=val>Euratom</td>\n",
       "<td class=val>6524695.87999999989</td>\n",
       "<td class=val>4000000</td>\n",
       "<td class=val>233348</td>\n",
       "<td class=val>PRC</td>\n",
       "<td class=val>Private for-profit entities (excluding Higher or Secondary Education Establishments)</td>\n",
       "<td class=val></td>\n",
       "<td class=val>50000</td>\n",
       "<td class=val>RIS3CAT Tecnologia Emergent</td>\n",
       "<td class=val>Energia de fusió</td></tr><tr class=even><td class=val>CORDIS-755039</td>\n",
       "<td class=val>H2020</td>\n",
       "<td class=val>Euratom</td>\n",
       "<td class=val>Euratom</td>\n",
       "<td class=val>6524695.87999999989</td>\n",
       "<td class=val>4000000</td>\n",
       "<td class=val>244753</td>\n",
       "<td class=val>REC</td>\n",
       "<td class=val>Research Organisations</td>\n",
       "<td class=val></td>\n",
       "<td class=val>70000</td>\n",
       "<td class=val>RIS3CAT Tecnologia Emergent</td>\n",
       "<td class=val>Energia de fusió</td></tr></table><div class=\"tinfo\">Total: 10, Shown: 10</div></div>"
      ]
     },
     "metadata": {},
     "output_type": "display_data"
    }
   ],
   "source": [
    "%endpoint http://ec2-52-51-177-228.eu-west-1.compute.amazonaws.com/unics_2.0/sparql/query\n",
    "%display table\n",
    "%show all\n",
    "\n",
    "PREFIX : <http://www.semanticweb.org/ontologies/2016/4/untitled-ontology-69#>\n",
    "PREFIX ris3cat: <http://www.semanticweb.org/ontologies/2016/4/untitled-ontology-69/ris3cat#>\n",
    "SELECT \n",
    "    ?pId ?frameworkName ?instrumentName ?instrumentShortName ?totalInvestment ?totalGrant\n",
    "    ?orgId ?activityTypeCode ?activityTypeName ?investment ?grant\n",
    "    ?categoryTypeName ?categoryName\n",
    "WHERE {\n",
    "    ?p a :Project .\n",
    "    ?p :projectId ?pId .\n",
    "\n",
    "    ?p :framework ?framework .\n",
    "    ?framework :extendedName ?frameworkName .\n",
    "\n",
    "    ?p :instrument ?instrument .\n",
    "    ?instrument :extendedName ?instrumentName .\n",
    "    ?instrument :shortName ?instrumentShortName .\n",
    "\n",
    "    ?p :reifiedParticipant ?participant .\n",
    "    ?participant :organization ?org .\n",
    "    ?org :unicsId ?orgId .\n",
    "\n",
    "    ?participant :ecActivityType ?activityType .\n",
    "    ?activityType :shortName ?activityTypeCode .\n",
    "    ?activityType :extendedName ?activityTypeName .\n",
    "\n",
    "    ?p :classification ?category .\n",
    "    ?category :classificationName ?categoryTypeName .\n",
    "    ?category :extendedName ?categoryName .\n",
    "    \n",
    "    optional { ?p :totalInvestment ?totalInvestment . }\n",
    "    optional { ?p :totalGrant ?totalGrant . }\n",
    "\n",
    "    optional { ?participant :investment ?investment . }\n",
    "    optional { ?participant :grant ?grant . }\n",
    "}\n",
    "LIMIT 10"
   ]
  },
  {
   "cell_type": "markdown",
   "metadata": {},
   "source": [
    "### Geolocation of RIS3CAT participants\n",
    "Restricting the search of participant to Catalonia (nuts3 based)\n"
   ]
  },
  {
   "cell_type": "code",
   "execution_count": 4,
   "metadata": {
    "collapsed": false
   },
   "outputs": [
    {
     "data": {
      "text/html": [
       "<div class=\"krn-spql\"><table><tr class=hdr><th>lat</th>\n",
       "<th>lng</th>\n",
       "<th>organizationExtendedName</th></tr><tr class=odd><td class=val>41.37900000000000000000000000</td>\n",
       "<td class=val>2.17969000000000000000000000</td>\n",
       "<td class=val>Fundació Barcelona Media</td></tr><tr class=even><td class=val>41.34555240000000000000000000</td>\n",
       "<td class=val>2.11108900000000000000000000</td>\n",
       "<td class=val>Institut Català d'Oncologia</td></tr><tr class=odd><td class=val>41.38222620000000000000000000</td>\n",
       "<td class=val>2.11810000000000000000000000</td>\n",
       "<td class=val>Fundació Institut de Recerca Biomèdica (IRB Barcelona)</td></tr><tr class=even><td class=val>41.38222620000000000000000000</td>\n",
       "<td class=val>2.11810000000000000000000000</td>\n",
       "<td class=val>Fundació Institut de Recerca Biomèdica (IRB Barcelona)</td></tr><tr class=odd><td class=val>41.38920010000000000000000000</td>\n",
       "<td class=val>2.11750240000000000000000000</td>\n",
       "<td class=val>Universitat Politècnica de Catalunya</td></tr><tr class=even><td class=val>41.50268190000000000000000000</td>\n",
       "<td class=val>2.10432180000000000000000000</td>\n",
       "<td class=val>Universitat Autònoma de Barcelona</td></tr><tr class=odd><td class=val>41.38506390000000000000000000</td>\n",
       "<td class=val>2.17340350000000000000000000</td>\n",
       "<td class=val>FUNDACION AVEDIS DONABEDIAN</td></tr><tr class=even><td class=val>41.39108510000000000000000000</td>\n",
       "<td class=val>2.17179880000000000000000000</td>\n",
       "<td class=val>BAX &amp; WILLEMS</td></tr><tr class=odd><td class=val>41.37900000000000000000000000</td>\n",
       "<td class=val>2.17969000000000000000000000</td>\n",
       "<td class=val>Fundació Barcelona Media</td></tr><tr class=even><td class=val>41.38963510000000000000000000</td>\n",
       "<td class=val>2.19035450000000000000000000</td>\n",
       "<td class=val>Centre de Recerca en Economia Internacional (CREI)</td></tr></table><div class=\"tinfo\">Total: 10, Shown: 10</div></div>"
      ]
     },
     "metadata": {},
     "output_type": "display_data"
    }
   ],
   "source": [
    "PREFIX : <http://www.semanticweb.org/ontologies/2016/4/untitled-ontology-69#>\n",
    "PREFIX ris3cat: <http://www.semanticweb.org/ontologies/2016/4/untitled-ontology-69/ris3cat#>\n",
    "SELECT \n",
    "    ?lat ?lng ?organizationExtendedName\n",
    "WHERE {\n",
    "    ?p a :Project .\n",
    "    ?p :reifiedParticipant ?participant .\n",
    "    ?participant :organization ?org .\n",
    "    ?org :extendedName ?organizationExtendedName .\n",
    "    ?participant :nuts3 ?nuts3.\n",
    "    ?nuts3 :identifier 'ES511'.\n",
    "    optional {\n",
    "        ?participant :geoLat ?lat .\n",
    "        ?participant :geoLong ?lng .\n",
    "      }\n",
    "}\n",
    "LIMIT 10"
   ]
  },
  {
   "cell_type": "code",
   "execution_count": null,
   "metadata": {
    "collapsed": true
   },
   "outputs": [],
   "source": []
  }
 ],
 "metadata": {
  "kernelspec": {
   "display_name": "SPARQL",
   "language": "sparql",
   "name": "sparql"
  },
  "language_info": {
   "codemirror_mode": {
    "name": "sparql"
   },
   "mimetype": "application/sparql-query",
   "name": "sparql",
   "pygments_lexer": "sparql-nb"
  }
 },
 "nbformat": 4,
 "nbformat_minor": 2
}
